{
  "nbformat": 4,
  "nbformat_minor": 0,
  "metadata": {
    "colab": {
      "provenance": [],
      "authorship_tag": "ABX9TyNQmjw0Nke3Xuz0VHA9sTNA",
      "include_colab_link": true
    },
    "kernelspec": {
      "name": "python3",
      "display_name": "Python 3"
    },
    "language_info": {
      "name": "python"
    }
  },
  "cells": [
    {
      "cell_type": "markdown",
      "metadata": {
        "id": "view-in-github",
        "colab_type": "text"
      },
      "source": [
        "<a href=\"https://colab.research.google.com/github/ChazzyChazz1/A/blob/main/RegresionesLinealesSimpleSist.Int.ipynb\" target=\"_parent\"><img src=\"https://colab.research.google.com/assets/colab-badge.svg\" alt=\"Open In Colab\"/></a>"
      ]
    },
    {
      "cell_type": "code",
      "execution_count": null,
      "metadata": {
        "id": "vki7qQr2EvFV"
      },
      "outputs": [],
      "source": [
        "# -*- coding: utf-8 -*-\n",
        "\"\"\"\n",
        "Created on Sat Jul  6 16:30:23 2024\n",
        "\n",
        "@author: JEFFREY\n",
        "\"\"\"\n",
        "\n",
        "def solicitar_datos():\n",
        "    ventas = []\n",
        "    ganancias = []\n",
        "    for i in range(6):\n",
        "        print(f\"{i+1}° Mes:\")\n",
        "        venta = float(input(f\"Ingrese la cantidad de ventas del mes {i+1}/6: \"))\n",
        "        ganancia = float(input(f\"Ingrese la ganancia total del mes {i+1}/6 en soles: \"))\n",
        "        ventas.append(venta)\n",
        "        ganancias.append(ganancia)\n",
        "    return ventas, ganancias\n",
        "\n",
        "def calcular_coeficientes(x, y):\n",
        "    n = len(x)\n",
        "    sum_x = sum(x)\n",
        "    sum_y = sum(y)\n",
        "    sum_xy = sum(xi * yi for xi, yi in zip(x, y))\n",
        "    sum_x2 = sum(xi * xi for xi in x)\n",
        "\n",
        "    m = (n * sum_xy - sum_x * sum_y) / (n * sum_x2 - sum_x * sum_x)\n",
        "    b = (sum_y - m * sum_x) / n\n",
        "    return m, b\n",
        "\n",
        "def predecir(m, b, x):\n",
        "    return m * x + b\n",
        "\n",
        "ventas, ganancias = solicitar_datos()\n",
        "\n",
        "meses = list(range(1, 7))\n",
        "\n",
        "m_ventas, b_ventas = calcular_coeficientes(meses, ventas)\n",
        "\n",
        "m_ganancias, b_ganancias = calcular_coeficientes(meses, ganancias)\n",
        "\n",
        "ventas_futuras = []\n",
        "ganancias_futuras = []\n",
        "for i in range(7, 9):\n",
        "    venta_futura = predecir(m_ventas, b_ventas, i)\n",
        "    ganancia_futura = predecir(m_ganancias, b_ganancias, i)\n",
        "    ventas_futuras.append(int(round(venta_futura, 0)))\n",
        "    ganancias_futuras.append(round(ganancia_futura, 1))\n",
        "\n",
        "for i in range(2):\n",
        "    print(f\"Predicción para el {7+i}° mes:\")\n",
        "    print(f\"  Ventas Aproximadas: {ventas_futuras[i]}\")\n",
        "    print(f\"  Ganancias Aproximadas: {ganancias_futuras[i]} soles\")\n"
      ]
    }
  ]
}